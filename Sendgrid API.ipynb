{
 "cells": [
  {
   "cell_type": "code",
   "execution_count": 1,
   "metadata": {},
   "outputs": [
    {
     "name": "stdout",
     "output_type": "stream",
     "text": [
      "202\n",
      "b''\n",
      "Server: nginx\n",
      "Date: Thu, 14 Jan 2021 01:56:27 GMT\n",
      "Content-Length: 0\n",
      "Connection: close\n",
      "X-Message-Id: u_Eh4bfKRB2MyxsxOzinyg\n",
      "Access-Control-Allow-Origin: https://sendgrid.api-docs.io\n",
      "Access-Control-Allow-Methods: POST\n",
      "Access-Control-Allow-Headers: Authorization, Content-Type, On-behalf-of, x-sg-elas-acl\n",
      "Access-Control-Max-Age: 600\n",
      "X-No-CORS-Reason: https://sendgrid.com/docs/Classroom/Basics/API/cors.html\n",
      "\n",
      "\n"
     ]
    }
   ],
   "source": [
    "import sendgrid\n",
    "import os\n",
    "from sendgrid.helpers.mail import *\n",
    "API=''\n",
    "sg = sendgrid.SendGridAPIClient(API)\n",
    "from_email = Email(\"arjun_b180031cs@nitc.ac.in\")\n",
    "to_email = To(\"arjun.syam23@gmail.com\")\n",
    "subject = \"Sending with SendGrid is Fun\"\n",
    "content = Content(\"text/plain\", \"and easy to do anywhere, even with Python\")\n",
    "mail = Mail(from_email, to_email, subject, content)\n",
    "response = sg.client.mail.send.post(request_body=mail.get())\n",
    "print(response.status_code)\n",
    "print(response.body)\n",
    "print(response.headers)"
   ]
  },
  {
   "cell_type": "code",
   "execution_count": null,
   "metadata": {},
   "outputs": [],
   "source": []
  }
 ],
 "metadata": {
  "kernelspec": {
   "display_name": "Python 3",
   "language": "python",
   "name": "python3"
  },
  "language_info": {
   "codemirror_mode": {
    "name": "ipython",
    "version": 3
   },
   "file_extension": ".py",
   "mimetype": "text/x-python",
   "name": "python",
   "nbconvert_exporter": "python",
   "pygments_lexer": "ipython3",
   "version": "3.8.5"
  }
 },
 "nbformat": 4,
 "nbformat_minor": 4
}
